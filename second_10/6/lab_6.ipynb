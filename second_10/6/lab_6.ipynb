{
 "cells": [
  {
   "cell_type": "markdown",
   "id": "01e8f6be-1408-43ab-b661-472808a7a9fd",
   "metadata": {},
   "source": [
    "**Данная лабораторная работа дублирует четвертую**"
   ]
  }
 ],
 "metadata": {
  "kernelspec": {
   "display_name": "Python 3 (ipykernel)",
   "language": "python",
   "name": "python3"
  },
  "language_info": {
   "codemirror_mode": {
    "name": "ipython",
    "version": 3
   },
   "file_extension": ".py",
   "mimetype": "text/x-python",
   "name": "python",
   "nbconvert_exporter": "python",
   "pygments_lexer": "ipython3",
   "version": "3.12.7"
  }
 },
 "nbformat": 4,
 "nbformat_minor": 5
}
