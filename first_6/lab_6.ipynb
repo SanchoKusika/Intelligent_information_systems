{
 "cells": [
  {
   "cell_type": "markdown",
   "id": "0c17a0a0-b156-424a-a41f-841a1742beb0",
   "metadata": {},
   "source": [
    "**1. Оцените евклидово расстояние между векторами x1 {2, 5, 3 ,7} и x2 {2, 7, 1, 5}**"
   ]
  },
  {
   "cell_type": "code",
   "execution_count": 1,
   "id": "2df91b82-9f85-410a-a2fb-a589c9e35349",
   "metadata": {},
   "outputs": [
    {
     "name": "stdout",
     "output_type": "stream",
     "text": [
      "Евклидово расстояние: 3.4641\n"
     ]
    }
   ],
   "source": [
    "import numpy as np\n",
    "\n",
    "x1 = np.array([2, 5, 3, 7])\n",
    "x2 = np.array([2, 7, 1, 5])\n",
    "\n",
    "# Евклидово расстояние\n",
    "dist = np.sqrt(np.sum((x1 - x2)**2))\n",
    "print(f\"Евклидово расстояние: {dist:.4f}\")"
   ]
  },
  {
   "cell_type": "markdown",
   "id": "e976c87f-01af-4b8f-81ba-45e687b2f1af",
   "metadata": {},
   "source": [
    "**2. Оцените расстояние Чебышева между векторами x1 {0, 10, 4, 9} и x2 {3, 7, 0, 2}**"
   ]
  },
  {
   "cell_type": "code",
   "execution_count": 2,
   "id": "542d59ff-8453-45e0-9191-bb10d09239b6",
   "metadata": {},
   "outputs": [
    {
     "name": "stdout",
     "output_type": "stream",
     "text": [
      "Расстояние Чебышева: 7\n"
     ]
    }
   ],
   "source": [
    "x1 = np.array([0, 10, 4, 9])\n",
    "x2 = np.array([3, 7, 0, 2])\n",
    "\n",
    "# Расстояние Чебышева (максимальная разница по координатам)\n",
    "dist_chebyshev = np.max(np.abs(x1 - x2))\n",
    "print(f\"Расстояние Чебышева: {dist_chebyshev}\")"
   ]
  },
  {
   "cell_type": "markdown",
   "id": "87e05a94-73d2-4cc4-aaf5-24a51c99810a",
   "metadata": {},
   "source": [
    "**3. Есть три центроида c1 {1, 0, 0}, c2 {0, 1, 1}, c3{1, 0, 1} и точка x с координатами {2, 0, 2}. К какому кластеру следует отнести эту точку при использовании евклидовой метрики расстояния?**"
   ]
  },
  {
   "cell_type": "code",
   "execution_count": 3,
   "id": "8b474e9b-3e49-4d09-86a8-dc1caa20bee2",
   "metadata": {},
   "outputs": [
    {
     "name": "stdout",
     "output_type": "stream",
     "text": [
      "Ближайший центроид: 3\n",
      "Расстояния до центроидов: [2.23606798 2.44948974 1.41421356]\n"
     ]
    }
   ],
   "source": [
    "centroids = np.array([\n",
    "    [1, 0, 0],  # c1\n",
    "    [0, 1, 1],  # c2\n",
    "    [1, 0, 1]   # c3\n",
    "])\n",
    "x = np.array([2, 0, 2])\n",
    "\n",
    "# Вычисление евклидовых расстояний\n",
    "distances = np.sqrt(np.sum((centroids - x)**2, axis=1))\n",
    "closest_cluster = np.argmin(distances)\n",
    "print(f\"Ближайший центроид: {closest_cluster + 1}\")\n",
    "print(\"Расстояния до центроидов:\", distances)"
   ]
  },
  {
   "cell_type": "markdown",
   "id": "8eecc441-63fd-4017-b27e-06635b9900a5",
   "metadata": {},
   "source": [
    "**4. Как называется метод определения оптимального числа k (кластеров) с использованием анализа инерции?** "
   ]
  },
  {
   "cell_type": "markdown",
   "id": "3ae375ac-f7eb-4564-960f-c252e93b8228",
   "metadata": {},
   "source": [
    "Метод определения оптимального числа кластеров - метод локтя (Elbow method), который анализирует инерцию (внутригрупповую сумму квадратов расстояний) при различных значениях k."
   ]
  }
 ],
 "metadata": {
  "kernelspec": {
   "display_name": "Python 3 (ipykernel)",
   "language": "python",
   "name": "python3"
  },
  "language_info": {
   "codemirror_mode": {
    "name": "ipython",
    "version": 3
   },
   "file_extension": ".py",
   "mimetype": "text/x-python",
   "name": "python",
   "nbconvert_exporter": "python",
   "pygments_lexer": "ipython3",
   "version": "3.12.7"
  }
 },
 "nbformat": 4,
 "nbformat_minor": 5
}
